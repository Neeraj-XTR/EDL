{
 "cells": [
  {
   "cell_type": "markdown",
   "id": "6c8c17e5",
   "metadata": {},
   "source": [
    "## Information\n",
    "In the given dataset, R&D Spend, Administration Cost and Marketing Spend of 50 Companies\n",
    "are given along with the profit earned. The target is to prepare an ML model which can predict\n",
    "the profit value of a company if the value of its R&D Spend, Administration Cost and Marketing\n",
    "Spend are given.\n",
    "1) Construct Different Regression algorithms\n",
    "2) Divide the data into train set and test set\n",
    "3) Calculate different regression metrics\n",
    "4) Choose the best model"
   ]
  },
  {
   "cell_type": "markdown",
   "id": "4f574d55",
   "metadata": {},
   "source": [
    "## Importing Data"
   ]
  },
  {
   "cell_type": "code",
   "execution_count": 28,
   "id": "c3ade115",
   "metadata": {},
   "outputs": [
    {
     "data": {
      "text/html": [
       "<div>\n",
       "<style scoped>\n",
       "    .dataframe tbody tr th:only-of-type {\n",
       "        vertical-align: middle;\n",
       "    }\n",
       "\n",
       "    .dataframe tbody tr th {\n",
       "        vertical-align: top;\n",
       "    }\n",
       "\n",
       "    .dataframe thead th {\n",
       "        text-align: right;\n",
       "    }\n",
       "</style>\n",
       "<table border=\"1\" class=\"dataframe\">\n",
       "  <thead>\n",
       "    <tr style=\"text-align: right;\">\n",
       "      <th></th>\n",
       "      <th>R&amp;D Spend</th>\n",
       "      <th>Administration</th>\n",
       "      <th>Marketing Spend</th>\n",
       "      <th>Profit</th>\n",
       "    </tr>\n",
       "  </thead>\n",
       "  <tbody>\n",
       "    <tr>\n",
       "      <th>0</th>\n",
       "      <td>165349.20</td>\n",
       "      <td>136897.80</td>\n",
       "      <td>471784.10</td>\n",
       "      <td>192261.83</td>\n",
       "    </tr>\n",
       "    <tr>\n",
       "      <th>1</th>\n",
       "      <td>162597.70</td>\n",
       "      <td>151377.59</td>\n",
       "      <td>443898.53</td>\n",
       "      <td>191792.06</td>\n",
       "    </tr>\n",
       "    <tr>\n",
       "      <th>2</th>\n",
       "      <td>153441.51</td>\n",
       "      <td>101145.55</td>\n",
       "      <td>407934.54</td>\n",
       "      <td>191050.39</td>\n",
       "    </tr>\n",
       "    <tr>\n",
       "      <th>3</th>\n",
       "      <td>144372.41</td>\n",
       "      <td>118671.85</td>\n",
       "      <td>383199.62</td>\n",
       "      <td>182901.99</td>\n",
       "    </tr>\n",
       "    <tr>\n",
       "      <th>4</th>\n",
       "      <td>142107.34</td>\n",
       "      <td>91391.77</td>\n",
       "      <td>366168.42</td>\n",
       "      <td>166187.94</td>\n",
       "    </tr>\n",
       "  </tbody>\n",
       "</table>\n",
       "</div>"
      ],
      "text/plain": [
       "   R&D Spend  Administration  Marketing Spend     Profit\n",
       "0  165349.20       136897.80        471784.10  192261.83\n",
       "1  162597.70       151377.59        443898.53  191792.06\n",
       "2  153441.51       101145.55        407934.54  191050.39\n",
       "3  144372.41       118671.85        383199.62  182901.99\n",
       "4  142107.34        91391.77        366168.42  166187.94"
      ]
     },
     "execution_count": 28,
     "metadata": {},
     "output_type": "execute_result"
    }
   ],
   "source": [
    "import pandas as pd\n",
    "import numpy as np\n",
    "import random\n",
    "data = pd.read_csv(\"50_Startups.csv\")\n",
    "data.head()"
   ]
  },
  {
   "cell_type": "code",
   "execution_count": 29,
   "id": "ee1beb02",
   "metadata": {},
   "outputs": [
    {
     "name": "stdout",
     "output_type": "stream",
     "text": [
      "There are no missing values\n"
     ]
    }
   ],
   "source": [
    "# checking for missing values\n",
    "var = data.isna().sum()\n",
    "if var.any() != 0:\n",
    "    print(\"There are missing values\")\n",
    "    print(data.isna().sum())\n",
    "else:\n",
    "    print(\"There are no missing values\")\n"
   ]
  },
  {
   "cell_type": "markdown",
   "id": "6d1c5183",
   "metadata": {},
   "source": [
    "### Since there are no missing values, imputation is not required."
   ]
  },
  {
   "cell_type": "markdown",
   "id": "044e7132",
   "metadata": {},
   "source": [
    "## Exploratory Data Analysis (EDA)"
   ]
  },
  {
   "cell_type": "code",
   "execution_count": 30,
   "id": "22dd4457",
   "metadata": {},
   "outputs": [
    {
     "data": {
      "text/html": [
       "<div>\n",
       "<style scoped>\n",
       "    .dataframe tbody tr th:only-of-type {\n",
       "        vertical-align: middle;\n",
       "    }\n",
       "\n",
       "    .dataframe tbody tr th {\n",
       "        vertical-align: top;\n",
       "    }\n",
       "\n",
       "    .dataframe thead th {\n",
       "        text-align: right;\n",
       "    }\n",
       "</style>\n",
       "<table border=\"1\" class=\"dataframe\">\n",
       "  <thead>\n",
       "    <tr style=\"text-align: right;\">\n",
       "      <th></th>\n",
       "      <th>R&amp;D Spend</th>\n",
       "      <th>Administration</th>\n",
       "      <th>Marketing Spend</th>\n",
       "      <th>Profit</th>\n",
       "    </tr>\n",
       "  </thead>\n",
       "  <tbody>\n",
       "    <tr>\n",
       "      <th>count</th>\n",
       "      <td>50.000000</td>\n",
       "      <td>50.000000</td>\n",
       "      <td>50.000000</td>\n",
       "      <td>50.000000</td>\n",
       "    </tr>\n",
       "    <tr>\n",
       "      <th>mean</th>\n",
       "      <td>73721.615600</td>\n",
       "      <td>121344.639600</td>\n",
       "      <td>211025.097800</td>\n",
       "      <td>112012.639200</td>\n",
       "    </tr>\n",
       "    <tr>\n",
       "      <th>std</th>\n",
       "      <td>45902.256482</td>\n",
       "      <td>28017.802755</td>\n",
       "      <td>122290.310726</td>\n",
       "      <td>40306.180338</td>\n",
       "    </tr>\n",
       "    <tr>\n",
       "      <th>min</th>\n",
       "      <td>0.000000</td>\n",
       "      <td>51283.140000</td>\n",
       "      <td>0.000000</td>\n",
       "      <td>14681.400000</td>\n",
       "    </tr>\n",
       "    <tr>\n",
       "      <th>25%</th>\n",
       "      <td>39936.370000</td>\n",
       "      <td>103730.875000</td>\n",
       "      <td>129300.132500</td>\n",
       "      <td>90138.902500</td>\n",
       "    </tr>\n",
       "    <tr>\n",
       "      <th>50%</th>\n",
       "      <td>73051.080000</td>\n",
       "      <td>122699.795000</td>\n",
       "      <td>212716.240000</td>\n",
       "      <td>107978.190000</td>\n",
       "    </tr>\n",
       "    <tr>\n",
       "      <th>75%</th>\n",
       "      <td>101602.800000</td>\n",
       "      <td>144842.180000</td>\n",
       "      <td>299469.085000</td>\n",
       "      <td>139765.977500</td>\n",
       "    </tr>\n",
       "    <tr>\n",
       "      <th>max</th>\n",
       "      <td>165349.200000</td>\n",
       "      <td>182645.560000</td>\n",
       "      <td>471784.100000</td>\n",
       "      <td>192261.830000</td>\n",
       "    </tr>\n",
       "  </tbody>\n",
       "</table>\n",
       "</div>"
      ],
      "text/plain": [
       "           R&D Spend  Administration  Marketing Spend         Profit\n",
       "count      50.000000       50.000000        50.000000      50.000000\n",
       "mean    73721.615600   121344.639600    211025.097800  112012.639200\n",
       "std     45902.256482    28017.802755    122290.310726   40306.180338\n",
       "min         0.000000    51283.140000         0.000000   14681.400000\n",
       "25%     39936.370000   103730.875000    129300.132500   90138.902500\n",
       "50%     73051.080000   122699.795000    212716.240000  107978.190000\n",
       "75%    101602.800000   144842.180000    299469.085000  139765.977500\n",
       "max    165349.200000   182645.560000    471784.100000  192261.830000"
      ]
     },
     "execution_count": 30,
     "metadata": {},
     "output_type": "execute_result"
    }
   ],
   "source": [
    "#EDA is not possible because we do not have categorical data.\n",
    "data.describe()"
   ]
  },
  {
   "cell_type": "code",
   "execution_count": null,
   "id": "1cad6eb5-ba13-46ab-8327-f5da8bc22c99",
   "metadata": {},
   "outputs": [],
   "source": []
  },
  {
   "cell_type": "markdown",
   "id": "285db7b4",
   "metadata": {},
   "source": [
    "# 1) Constructing different Regression Algorithms"
   ]
  },
  {
   "cell_type": "code",
   "execution_count": 31,
   "id": "ef5d4fa6",
   "metadata": {},
   "outputs": [],
   "source": [
    "from sklearn.ensemble import RandomForestRegressor\n",
    "from sklearn.linear_model import Lasso\n",
    "from sklearn.linear_model import Ridge\n",
    "from sklearn.linear_model import LinearRegression\n",
    "from sklearn.tree import DecisionTreeRegressor\n",
    "from sklearn.svm import SVR\n",
    "model_dict_reg = {\"RandomForestRegressor\": RandomForestRegressor(),\n",
    "                  \"Ridge\": Ridge(),\n",
    "                  \"DecisionTreeRegressor\": DecisionTreeRegressor(),\n",
    "                  \"SVR\": SVR()\n",
    "                 }"
   ]
  },
  {
   "cell_type": "code",
   "execution_count": 32,
   "id": "6baf2093",
   "metadata": {},
   "outputs": [
    {
     "data": {
      "text/plain": [
       "[numpy.float64, numpy.float64, numpy.float64, numpy.float64]"
      ]
     },
     "execution_count": 32,
     "metadata": {},
     "output_type": "execute_result"
    }
   ],
   "source": [
    "# checking for the data types of each columns\n",
    "type_testing_list = []\n",
    "for key,value in enumerate(data):\n",
    "    x = type(data[value][6])\n",
    "    type_testing_list.append(x)\n",
    "type_testing_list"
   ]
  },
  {
   "cell_type": "code",
   "execution_count": 33,
   "id": "0ea6f9f4",
   "metadata": {},
   "outputs": [],
   "source": [
    "dummyX = data.drop(\"Profit\", axis=1)\n",
    "X = dummyX.astype(int)\n",
    "y = pd.DataFrame(data['Profit'].astype(int))\n",
    "np.random.seed(42)\n",
    "# from sklearn.preprocessing import OneHotEncoder as OHE\n",
    "# from sklearn.compose import ColumnTransformer as CT\n",
    "# data_to_convert = ['R&D Spend', 'Administration', 'Marketing Spend']\n",
    "# one_hot = OHE()\n",
    "# transformer = CT([(\"one_hot\",\n",
    "#                    one_hot,\n",
    "#                    data_to_convert)],\n",
    "#                  remainder = \"passthrough\")\n",
    "# transformed_x = transformer.fit_transform(X)\n",
    "# data_to_convert_y = ['Profit']\n",
    "# one_hot = OHE()\n",
    "# transformer = CT([(\"one_hot\",\n",
    "#                    one_hot,\n",
    "#                    data_to_convert_y)],\n",
    "#                  remainder = \"passthrough\")\n",
    "# transformed_y = transformer.fit_transform(y)\n",
    "# transformed_y\n",
    "# print(type(transformed_y))\n"
   ]
  },
  {
   "cell_type": "markdown",
   "id": "eab03014",
   "metadata": {},
   "source": [
    "# 2) Dividing the data into train and training sets"
   ]
  },
  {
   "cell_type": "code",
   "execution_count": 34,
   "id": "d1077744",
   "metadata": {},
   "outputs": [],
   "source": [
    "from sklearn.model_selection import train_test_split as tts\n",
    "# X_train, X_test, y_train, y_test = tts(transformed_x,transformed_y,test_size = 0.2)\n",
    "X_train, X_test, y_train, y_test = tts(X,y,test_size = 0.2)"
   ]
  },
  {
   "cell_type": "markdown",
   "id": "38e50c0f",
   "metadata": {},
   "source": [
    "# 3) Training and calculation of different Evaluation metrics"
   ]
  },
  {
   "cell_type": "code",
   "execution_count": 35,
   "id": "38921d42",
   "metadata": {},
   "outputs": [],
   "source": [
    "# Just feed the training and test sets in the function below and we can get the score of each regression alogrithm"
   ]
  },
  {
   "cell_type": "code",
   "execution_count": 36,
   "id": "bd7dcd9f",
   "metadata": {},
   "outputs": [
    {
     "name": "stdout",
     "output_type": "stream",
     "text": [
      "RandomForestRegressor score = 0.9038605148122991\n",
      "Ridge score = 0.9000609453047692\n",
      "DecisionTreeRegressor score = 0.8525555090916613\n",
      "SVR score = -0.17990473575185884\n",
      "The highest score is of 0.9038605148122991\n",
      "This Result is on a single test set without using corss validation\n"
     ]
    },
    {
     "name": "stderr",
     "output_type": "stream",
     "text": [
      "C:\\Users\\Neeraj Mathur\\desktop\\MLDL projects\\env\\Lib\\site-packages\\sklearn\\base.py:1151: DataConversionWarning: A column-vector y was passed when a 1d array was expected. Please change the shape of y to (n_samples,), for example using ravel().\n",
      "  return fit_method(estimator, *args, **kwargs)\n",
      "C:\\Users\\Neeraj Mathur\\desktop\\MLDL projects\\env\\Lib\\site-packages\\sklearn\\utils\\validation.py:1184: DataConversionWarning: A column-vector y was passed when a 1d array was expected. Please change the shape of y to (n_samples, ), for example using ravel().\n",
      "  y = column_or_1d(y, warn=True)\n"
     ]
    },
    {
     "data": {
      "text/plain": [
       "<matplotlib.legend.Legend at 0x25f678e77d0>"
      ]
     },
     "execution_count": 36,
     "metadata": {},
     "output_type": "execute_result"
    },
    {
     "data": {
      "image/png": "[encoded data removed]",
      "text/plain": [
       "<Figure size 640x480 with 1 Axes>"
      ]
     },
     "metadata": {},
     "output_type": "display_data"
    }
   ],
   "source": [
    "r2_dict = {}\n",
    "def fit_and_Score(X_train_split, y_train_split, X_val_split, y_val_split):\n",
    "    model_scores_list = []\n",
    "    for key,regressor in model_dict_reg.items():\n",
    "        model_fit = regressor.fit(X_train_split,y_train_split)\n",
    "#         y_preds = model_fit.predict(xtest_features)\n",
    "        model_scores = model_fit.score(X_val_split, y_val_split)\n",
    "        model_scores_list.append(model_scores)\n",
    "        print(f'{key} score = {model_scores}')\n",
    "        maxed = max(model_scores_list)\n",
    "        r2_dict[key] = model_scores\n",
    "    return print(f'The highest score is of {maxed}')\n",
    "np.random.seed(42)\n",
    "function_call = fit_and_Score(\n",
    "                              X_train_split = X_train,\n",
    "                              y_train_split = y_train,\n",
    "                              X_val_split = X_test,\n",
    "                              y_val_split = y_test)\n",
    "####################### Plotting\n",
    "# for lim in range(len(model_dict_reg)):\n",
    "#     print(function_call.__next__())\n",
    "# plotting our results\n",
    "# use the below commented code in case if there is error in plotting graphs\n",
    "model_compare_r2 = pd.DataFrame(r2_dict,index = [\"r2 score\"])\n",
    "# model_compare_pre = pd.DataFrame(precision_dict,index = [\"precision\"])       \n",
    "# model_compare_rec = pd.DataFrame(recall_dict,index = [\"recall_Score\"])\n",
    "print(\"This Result is on a single test set without using corss validation\")\n",
    "##### Use the below code to print al the metrics ourside of the function\n",
    "# print(f'{model_compare_acc}\\n {model_compare_pre}\\n {model_compare_rec}')\n",
    "\n",
    "r2_plot = model_compare_r2.T.plot.bar()\n",
    "for container in r2_plot.containers:\n",
    "    r2_plot.bar_label(container, label_type='edge', fontsize=8, color='black')\n",
    "r2_plot.legend(title='Metrics') \n",
    "# pre_plot = model_compare_pre.T.plot.bar()\n",
    "# recall_plot = model_compare_rec.T.plot.bar()"
   ]
  },
  {
   "cell_type": "code",
   "execution_count": 40,
   "id": "3c0f6d9c",
   "metadata": {},
   "outputs": [
    {
     "name": "stdout",
     "output_type": "stream",
     "text": [
      "RandomForestRegressor:r2 = -4.171331132858853\n",
      "RandomForestRegressor:neg_mean_absolute_error = -20989.9902\n",
      "RandomForestRegressor:neg_mean_squared_error = -742860766.4161639\n",
      "Ridge:r2 = -0.12161992884554138\n",
      "Ridge:neg_mean_absolute_error = -7040.723062061297\n",
      "Ridge:neg_mean_squared_error = -94908167.61826864\n",
      "DecisionTreeRegressor:r2 = -5.468360948696382\n",
      "DecisionTreeRegressor:neg_mean_absolute_error = -21753.96\n",
      "DecisionTreeRegressor:neg_mean_squared_error = -794709512.1800001\n",
      "SVR:r2 = -12.320377219701308\n",
      "SVR:neg_mean_absolute_error = -39530.29890879552\n",
      "SVR:neg_mean_squared_error = -2290921664.617995\n"
     ]
    },
    {
     "data": {
      "text/plain": [
       "<matplotlib.legend.Legend at 0x25f67b1b4d0>"
      ]
     },
     "execution_count": 40,
     "metadata": {},
     "output_type": "execute_result"
    },
    {
     "data": {
      "image/png": "[encoded data removed]",
      "text/plain": [
       "<Figure size 640x480 with 1 Axes>"
      ]
     },
     "metadata": {},
     "output_type": "display_data"
    },
    {
     "data": {
      "image/png": "[encoded data removed]",
      "text/plain": [
       "<Figure size 640x480 with 1 Axes>"
      ]
     },
     "metadata": {},
     "output_type": "display_data"
    },
    {
     "data": {
      "image/png": "[encoded data removed]",
      "text/plain": [
       "<Figure size 640x480 with 1 Axes>"
      ]
     },
     "metadata": {},
     "output_type": "display_data"
    }
   ],
   "source": [
    "# Finding out other metrics with cross validation\n",
    "import warnings\n",
    "r2_dict = {}\n",
    "mse_dict = {}\n",
    "mae_dict = {}\n",
    "from sklearn.model_selection import cross_val_score\n",
    "from sklearn.datasets import make_regression\n",
    "scoring_metrics_reg  = [\"r2\", \"neg_mean_absolute_error\", \"neg_mean_squared_error\"]\n",
    "def fit_and_Scores(X_train_split, y_train_split, X_val_split, y_val_split):\n",
    "    model_scores_list = []\n",
    "    ############# here the model is trained on test csv file and tested on test csv file\n",
    "    # X, y = make_regression(n_samples=100, n_features=5, noise=0.1, random_state=42)\n",
    "    for key,model in model_dict_reg.items():\n",
    "        fitted_model = model\n",
    "        y_preds = model.predict(X_val_split)\n",
    "        for metric in scoring_metrics_reg:\n",
    "            with warnings.catch_warnings():\n",
    "                warnings.simplefilter(\"ignore\", category=UserWarning)\n",
    "                score = cross_val_score(fitted_model, X, y, cv=5, scoring=metric, verbose=0)\n",
    "            resulted_score = np.mean(score)\n",
    "            print(f'{key}:{metric} = {resulted_score}')\n",
    "            if metric == \"r2\":\n",
    "                r2_dict[key] = resulted_score\n",
    "            elif metric == \"neg_mean_absolute_error\":\n",
    "                mse_dict[key] = resulted_score\n",
    "            else:\n",
    "                mae_dict[key] = resulted_score\n",
    "    return \"GG\"\n",
    "np.random.seed(42)\n",
    "function_call = fit_and_Scores(\n",
    "                              X_train_split = X_train,\n",
    "                              y_train_split = y_train,\n",
    "                              X_val_split = X_test,\n",
    "                              y_val_split = y_test)\n",
    "################ PLotting\n",
    "# for lim in range(len(model_dict_reg)):\n",
    "#     print(function_call.__next__())\n",
    "# plotting our results\n",
    "# use the below commented code in case if there is error in plotting graphs\n",
    "model_compare_r2 = pd.DataFrame(r2_dict,index = [\"r2 score\"])\n",
    "model_compare_mse = pd.DataFrame(mse_dict,index = [\"Mean squre\"])       \n",
    "model_compare_mae = pd.DataFrame(mae_dict,index = [\"Mean absolute\"])\n",
    "# print(\"This Result is on a single test set without using corss validation\")\n",
    "##### Use the below code to print al the metrics ourside of the function\n",
    "# print(f'{model_compare_acc}\\n {model_compare_pre}\\n {model_compare_rec}')\n",
    "\n",
    "r2_plot = model_compare_r2.T.plot.bar()\n",
    "for container in r2_plot.containers:\n",
    "    r2_plot.bar_label(container, label_type='edge', fontsize=8, color='black')\n",
    "r2_plot.legend(title='Metrics') \n",
    "\n",
    "mse_plot = model_compare_mse.T.plot.bar()\n",
    "for container in mse_plot.containers:\n",
    "    mse_plot.bar_label(container, label_type='edge', fontsize=8, color='black')\n",
    "mse_plot.legend(title='Metrics') \n",
    " \n",
    "mae_plot = model_compare_mae.T.plot.bar()\n",
    "for container in mae_plot.containers:\n",
    "    mae_plot.bar_label(container, label_type='edge', fontsize=8, color='black')\n",
    "mae_plot.legend(title='Metrics')"
   ]
  },
  {
   "cell_type": "markdown",
   "id": "c7c66a8f-8e4f-4563-a9d9-19264deda577",
   "metadata": {},
   "source": [
    "## We can clearly see that Ridge algorithm has a better metric scores"
   ]
  },
  {
   "cell_type": "code",
   "execution_count": null,
   "id": "62acf42f-4e67-4ab4-b4a8-bdd4f94ce2b0",
   "metadata": {},
   "outputs": [],
   "source": []
  },
  {
   "cell_type": "code",
   "execution_count": null,
   "id": "589408ef-f5f1-4192-a0f8-8bc13d759fd4",
   "metadata": {},
   "outputs": [],
   "source": []
  },
  {
   "cell_type": "markdown",
   "id": "f89462c5-178a-4816-958a-dc330b6ffaef",
   "metadata": {},
   "source": [
    "# Now we can predict the profit value of a item if we are given with R&D Spend, Administration Cost and Marketing Spend."
   ]
  },
  {
   "cell_type": "code",
   "execution_count": 39,
   "id": "4c8efaa0-2291-4067-bd23-b068ad9fce5d",
   "metadata": {},
   "outputs": [
    {
     "data": {
      "text/plain": [
       "array([109540.2361735 , 109530.6238391 , 109527.92648535, 109528.97007725,\n",
       "       109542.65351277, 109530.28024024, 109530.05112187, 109529.68957648,\n",
       "       109528.15211132, 109530.21077249])"
      ]
     },
     "execution_count": 39,
     "metadata": {},
     "output_type": "execute_result"
    }
   ],
   "source": [
    "for key,model in model_dict_reg.items():\n",
    "    fitted_model = model\n",
    "    y_preds = model.predict(X_test)\n",
    "y_preds\n",
    "# just use model.predict on a given row in csv format to predict the profit value of a company"
   ]
  },
  {
   "cell_type": "code",
   "execution_count": 45,
   "id": "be0b2f4c-b4f7-49ec-86a0-c38187cc564b",
   "metadata": {},
   "outputs": [
    {
     "name": "stdout",
     "output_type": "stream",
     "text": [
      "The Best Regression model is 'Ridge'Regressor with the following metrics:\n",
      " r2 score of -0.12161992884554138\n",
      " neg mean squared error of -7040.723062061297\n",
      " neg mean absolute error of -94908167.61826864\n"
     ]
    }
   ],
   "source": [
    "from operator import itemgetter\n",
    "max_key_r2, max_value_r2 = max(r2_dict.items(), key=itemgetter(1))\n",
    "max_key_mse, max_value_mse = max(mse_dict.items(), key=itemgetter(1))\n",
    "max_key_mae, max_value_mae = max(mae_dict.items(), key=itemgetter(1))\n",
    "print(f\"The Best Regression model is '{max_key_r2}'Regressor with the following metrics:\\n r2 score of {max_value_r2}\\n neg mean squared error of {max_value_mse}\\n neg mean absolute error of {max_value_mae}\")\n",
    "# print('The best Regression model is Ridge Regressor with the following metrics')\n",
    "# for metric in scoring_metrics_reg:\n",
    "#     print(f'{metric}: '"
   ]
  },
  {
   "cell_type": "markdown",
   "id": "e385d005-3d5f-49de-a58f-3c9f6b582189",
   "metadata": {},
   "source": [
    "## HyperParameter Tuning\n",
    "Using Random Search Cross Vaildation(RSCV) on the best model we found"
   ]
  },
  {
   "cell_type": "code",
   "execution_count": 56,
   "id": "2b844e94-5324-4d23-a43b-eeacdf9f1262",
   "metadata": {},
   "outputs": [
    {
     "name": "stderr",
     "output_type": "stream",
     "text": [
      "C:\\Users\\Neeraj Mathur\\desktop\\MLDL projects\\env\\Lib\\site-packages\\sklearn\\model_selection\\_search.py:307: UserWarning: The total space of parameters 12 is smaller than n_iter=20. Running 12 iterations. For exhaustive searches, use GridSearchCV.\n",
      "  warnings.warn(\n"
     ]
    },
    {
     "name": "stdout",
     "output_type": "stream",
     "text": [
      "Fitting 5 folds for each of 12 candidates, totalling 60 fits\n"
     ]
    },
    {
     "data": {
      "text/plain": [
       "{'max_iter': 10, 'alpha': 5}"
      ]
     },
     "execution_count": 56,
     "metadata": {},
     "output_type": "execute_result"
    }
   ],
   "source": [
    "## Hyperparameter tuning using RSCV\n",
    "# Creating a HP grid for SVC\n",
    "np.random.seed(42)\n",
    "from sklearn.model_selection import RandomizedSearchCV,GridSearchCV\n",
    "max_list = [10,5,80,1000]\n",
    "grid = {\n",
    "            \"alpha\":[5,5,10],\n",
    "            \"max_iter\":max_list}\n",
    "rs = RandomizedSearchCV(Ridge(),\n",
    "                           param_distributions=SVC_grid,\n",
    "                          cv=5,\n",
    "                          n_iter=20,\n",
    "                          verbose=True)\n",
    "rs.fit(X_train,y_train)\n",
    "rs.best_params_\n"
   ]
  },
  {
   "cell_type": "markdown",
   "id": "dfc51183-a55f-4497-b752-4c9001898196",
   "metadata": {},
   "source": [
    "Best parameters are 10 and 5"
   ]
  },
  {
   "cell_type": "code",
   "execution_count": 58,
   "id": "ad6deac6-cd9a-473c-9c72-a56cfc11d5b6",
   "metadata": {},
   "outputs": [
    {
     "data": {
      "text/plain": [
       "0.9000609453011303"
      ]
     },
     "execution_count": 58,
     "metadata": {},
     "output_type": "execute_result"
    }
   ],
   "source": [
    "HP_tuned_model = Ridge(max_iter=10,\n",
    "                       alpha = 5)\n",
    "fitted_model = HP_tuned_model.fit(X_train,y_train)\n",
    "score = fitted_model.score(X_test,y_test)\n",
    "score"
   ]
  },
  {
   "cell_type": "markdown",
   "id": "967654e8-b4c3-41eb-aa58-667c1e6541d8",
   "metadata": {},
   "source": [
    "## Therefore the best model is Ridge Regressor for the given problem"
   ]
  },
  {
   "cell_type": "code",
   "execution_count": 60,
   "id": "d302df04-6ffd-4a97-8ec0-300ffcb73774",
   "metadata": {},
   "outputs": [
    {
     "name": "stdout",
     "output_type": "stream",
     "text": [
      "Pandas version: 1.5.3\n",
      "NumPy version: 1.24.3\n",
      "Scikit-learn version: 1.3.0\n",
      "Python version: 3.11.5 | packaged by Anaconda, Inc. | (main, Sep 11 2023, 13:26:23) [MSC v.1916 64 bit (AMD64)]\n"
     ]
    }
   ],
   "source": [
    "#Version of the libraries used:\n",
    "import pandas as pd\n",
    "print(\"Pandas version:\", pd.__version__)\n",
    "import numpy as np\n",
    "print(\"NumPy version:\", np.__version__)\n",
    "import sklearn\n",
    "print(\"Scikit-learn version:\", sklearn.__version__)\n",
    "import sys\n",
    "print(\"Python version:\", sys.version)\n"
   ]
  },
  {
   "cell_type": "code",
   "execution_count": null,
   "id": "e824cd71-ccfc-493a-8ca5-c81fc97e4202",
   "metadata": {},
   "outputs": [],
   "source": []
  }
 ],
 "metadata": {
  "kernelspec": {
   "display_name": "Python 3 (ipykernel)",
   "language": "python",
   "name": "python3"
  },
  "language_info": {
   "codemirror_mode": {
    "name": "ipython",
    "version": 3
   },
   "file_extension": ".py",
   "mimetype": "text/x-python",
   "name": "python",
   "nbconvert_exporter": "python",
   "pygments_lexer": "ipython3",
   "version": "3.9.16"
  }
 },
 "nbformat": 4,
 "nbformat_minor": 5
}
